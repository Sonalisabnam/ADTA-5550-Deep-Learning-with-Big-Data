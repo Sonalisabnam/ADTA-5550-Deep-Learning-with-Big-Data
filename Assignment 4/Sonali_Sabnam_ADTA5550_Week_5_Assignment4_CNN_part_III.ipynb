{
 "cells": [
  {
   "cell_type": "code",
   "execution_count": 1,
   "id": "fddb741a",
   "metadata": {},
   "outputs": [
    {
     "name": "stdout",
     "output_type": "stream",
     "text": [
      "WARNING:tensorflow:From /tmp/ipykernel_15653/4190903632.py:8: read_data_sets (from tensorflow.contrib.learn.python.learn.datasets.mnist) is deprecated and will be removed in a future version.\n",
      "Instructions for updating:\n",
      "Please use alternatives such as official/mnist/dataset.py from tensorflow/models.\n",
      "WARNING:tensorflow:From /opt/conda/lib/python3.7/site-packages/tensorflow_core/contrib/learn/python/learn/datasets/mnist.py:260: maybe_download (from tensorflow.contrib.learn.python.learn.datasets.base) is deprecated and will be removed in a future version.\n",
      "Instructions for updating:\n",
      "Please write your own downloading logic.\n",
      "WARNING:tensorflow:From /opt/conda/lib/python3.7/site-packages/tensorflow_core/contrib/learn/python/learn/datasets/mnist.py:262: extract_images (from tensorflow.contrib.learn.python.learn.datasets.mnist) is deprecated and will be removed in a future version.\n",
      "Instructions for updating:\n",
      "Please use tf.data to implement this functionality.\n",
      "Extracting MNIST_data/train-images-idx3-ubyte.gz\n",
      "WARNING:tensorflow:From /opt/conda/lib/python3.7/site-packages/tensorflow_core/contrib/learn/python/learn/datasets/mnist.py:267: extract_labels (from tensorflow.contrib.learn.python.learn.datasets.mnist) is deprecated and will be removed in a future version.\n",
      "Instructions for updating:\n",
      "Please use tf.data to implement this functionality.\n",
      "Extracting MNIST_data/train-labels-idx1-ubyte.gz\n",
      "WARNING:tensorflow:From /opt/conda/lib/python3.7/site-packages/tensorflow_core/contrib/learn/python/learn/datasets/mnist.py:110: dense_to_one_hot (from tensorflow.contrib.learn.python.learn.datasets.mnist) is deprecated and will be removed in a future version.\n",
      "Instructions for updating:\n",
      "Please use tf.one_hot on tensors.\n",
      "Extracting MNIST_data/t10k-images-idx3-ubyte.gz\n",
      "Extracting MNIST_data/t10k-labels-idx1-ubyte.gz\n",
      "WARNING:tensorflow:From /opt/conda/lib/python3.7/site-packages/tensorflow_core/contrib/learn/python/learn/datasets/mnist.py:290: DataSet.__init__ (from tensorflow.contrib.learn.python.learn.datasets.mnist) is deprecated and will be removed in a future version.\n",
      "Instructions for updating:\n",
      "Please use alternatives such as official/mnist/dataset.py from tensorflow/models.\n",
      "<class 'tensorflow.contrib.learn.python.learn.datasets.base.Datasets'>\n"
     ]
    },
    {
     "data": {
      "text/plain": [
       "55000"
      ]
     },
     "execution_count": 1,
     "metadata": {},
     "output_type": "execute_result"
    }
   ],
   "source": [
    "import numpy as np\n",
    "import pandas as pd\n",
    "import matplotlib.pyplot as plt\n",
    "import tensorflow as tf\n",
    "from tensorflow.examples.tutorials.mnist import input_data\n",
    "\n",
    "# Load the MNIST dataset\n",
    "mnist = input_data.read_data_sets(\"MNIST_data/\", one_hot=True)\n",
    "\n",
    "# Display the type of the mnist object\n",
    "print(type(mnist))\n",
    "mnist.train.num_examples\n",
    "mnist.train.num_examples"
   ]
  },
  {
   "cell_type": "code",
   "execution_count": 2,
   "id": "cf8b8632",
   "metadata": {},
   "outputs": [],
   "source": [
    "# This function returns a tf.Variable used to store weights in a filter\n",
    "# The values are initialized with values that can be used to randomize weights\n",
    "\n",
    "def init_weights(filter_shape):\n",
    "    init_random_dist = tf.truncated_normal(filter_shape, stddev=0.1)\n",
    "    return tf.Variable(init_random_dist)"
   ]
  },
  {
   "cell_type": "code",
   "execution_count": 3,
   "id": "bc945057",
   "metadata": {},
   "outputs": [],
   "source": [
    "# This function returns a tf.Variable used to store bias terms\n",
    "# The variable is initialized with values that can be used to initialize biases\n",
    "\n",
    "def init_bias(bias_shape):\n",
    "    init_vals = tf.constant(0.1, shape=bias_shape)\n",
    "    return tf.Variable(init_vals)"
   ]
  },
  {
   "cell_type": "code",
   "execution_count": 4,
   "id": "4dd6ed63",
   "metadata": {},
   "outputs": [],
   "source": [
    "# Set Up Convolution Layer and Perform Convolution Computation: Dot Product (X * W)\n",
    "def create_convolution_layer_and_compute_dot_products(inputs, filter_shape):\n",
    "    # Initialize the weights = initialize filters\n",
    "    filters = tf.Variable(tf.random.normal(filter_shape))\n",
    "\n",
    "    # Create a convolution layer\n",
    "    conv_layer_outputs = tf.nn.conv2d(inputs, filters, strides=[1, 1, 1, 1], padding='SAME')\n",
    "\n",
    "    return conv_layer_outputs"
   ]
  },
  {
   "cell_type": "code",
   "execution_count": 5,
   "id": "d14ef19c",
   "metadata": {},
   "outputs": [],
   "source": [
    "# setup a Relu layer and perform computation: Dot product + Bias(x.W+b)\n",
    "def create_convolution_layer_and_compute_dotproducts_plus_b(inputs, filter_shape):\n",
    "    # Initialize bias for each output channel\n",
    "    b= init_bias([filter_shape[3]])\n",
    "    \n",
    "    # Perform the computation first by adding: inputs (x * W) + b\n",
    "    relu_layer_outputs = tf.nn.relu(inputs + b)  \n",
    "           \n",
    "    return relu_layer_outputs"
   ]
  },
  {
   "cell_type": "code",
   "execution_count": 6,
   "id": "9c378cc1",
   "metadata": {},
   "outputs": [],
   "source": [
    "# Set Up a Pooling Layer and Reduce Spatial Size\n",
    "\n",
    "# 1) Define Function to Create Pooling Layer\n",
    "# 2) Then, to reduce the spatial size of the inputs\n",
    "\n",
    "# Pooling method: Max pooling\n",
    "# Kernel size: 2 x 2\n",
    "# Stride: 2\n",
    "\n",
    "def create_maxpool2by2_and_reduce_Spatial_size(inputs):\n",
    "    # Parameters:\n",
    "    # inputs: Outputs of the previous convolutional layer\n",
    "    \n",
    "    # Create maxpool2by2 and reduce_size\n",
    "    pooling_layer_outputs = tf.nn.max_pool(inputs, ksize=[1, 2, 2, 1], strides=[1, 2, 2, 1], padding='SAME')\n",
    "    \n",
    "    return pooling_layer_outputs"
   ]
  },
  {
   "cell_type": "code",
   "execution_count": 7,
   "id": "5b713354",
   "metadata": {},
   "outputs": [],
   "source": [
    "# Define a function to compute the fully connected layer\n",
    "def create_fully_connected_layer_and_compute_dotproduct_plus_bias(inputs, output_size):\n",
    "  input_size = int(inputs.get_shape()[1])\n",
    "  W=init_weights([input_size, output_size])\n",
    "  b=init_bias([output_size])\n",
    "\n",
    "  fc_xW_plus_bias_outputs=tf.matmul(inputs,W)+b\n",
    "\n",
    "  return fc_xW_plus_bias_outputs"
   ]
  },
  {
   "cell_type": "code",
   "execution_count": 8,
   "id": "0e387de1",
   "metadata": {},
   "outputs": [
    {
     "name": "stdout",
     "output_type": "stream",
     "text": [
      "WARNING:tensorflow:From /tmp/ipykernel_15653/871952366.py:2: The name tf.placeholder is deprecated. Please use tf.compat.v1.placeholder instead.\n",
      "\n"
     ]
    }
   ],
   "source": [
    "#Create placeholders for Input and Labels: x and y_true\n",
    "x=tf.placeholder(tf.float32,shape=[None,784])\n",
    "y_true=tf.placeholder(tf.float32,shape=[None,10])"
   ]
  },
  {
   "cell_type": "code",
   "execution_count": 9,
   "id": "b260bee8",
   "metadata": {},
   "outputs": [],
   "source": [
    "#Reshape the input layer\n",
    "x_image=tf.reshape(x,[-1,28,28,1])"
   ]
  },
  {
   "cell_type": "code",
   "execution_count": 10,
   "id": "340b25f5",
   "metadata": {},
   "outputs": [],
   "source": [
    "# Create the first convolutional layer, ReLu layer, and perform Computation: x*W+b\n",
    "conv_layer_1_output= create_convolution_layer_and_compute_dot_products(x_image, filter_shape=[5, 5, 1, 32])\n",
    "\n",
    "conv_relu_layer_1_outputs=create_convolution_layer_and_compute_dotproducts_plus_b(conv_layer_1_output, filter_shape=[5,5,1,32])"
   ]
  },
  {
   "cell_type": "code",
   "execution_count": 11,
   "id": "50eab11c",
   "metadata": {},
   "outputs": [
    {
     "name": "stdout",
     "output_type": "stream",
     "text": [
      "WARNING:tensorflow:From /tmp/ipykernel_15653/3975375632.py:15: The name tf.nn.max_pool is deprecated. Please use tf.nn.max_pool2d instead.\n",
      "\n"
     ]
    }
   ],
   "source": [
    "# Create first pooling layer and reduce size\n",
    "pooling_layer_1_outputs=create_maxpool2by2_and_reduce_Spatial_size(conv_relu_layer_1_outputs)"
   ]
  },
  {
   "cell_type": "code",
   "execution_count": 12,
   "id": "aba65421",
   "metadata": {},
   "outputs": [],
   "source": [
    "# Reshape/flatten data and make it ready to be fed in first FC layer\n",
    "pooling_layer_1_outputs_flat=tf.reshape(pooling_layer_1_outputs,[-1,14*14*32])"
   ]
  },
  {
   "cell_type": "code",
   "execution_count": 13,
   "id": "84efd666",
   "metadata": {},
   "outputs": [
    {
     "name": "stdout",
     "output_type": "stream",
     "text": [
      "WARNING:tensorflow:From /tmp/ipykernel_15653/2625546684.py:5: The name tf.truncated_normal is deprecated. Please use tf.random.truncated_normal instead.\n",
      "\n"
     ]
    }
   ],
   "source": [
    "# Create first FC Layer, ReLu layer, and output data to dropout layer\n",
    "fc_layer_1_outputs=create_fully_connected_layer_and_compute_dotproduct_plus_bias(pooling_layer_1_outputs_flat, output_size=1024)\n",
    "\n",
    "fc_relu_layer_1_outputs=tf.nn.relu(fc_layer_1_outputs)"
   ]
  },
  {
   "cell_type": "code",
   "execution_count": 14,
   "id": "b1382675",
   "metadata": {},
   "outputs": [
    {
     "name": "stdout",
     "output_type": "stream",
     "text": [
      "WARNING:tensorflow:From /tmp/ipykernel_15653/1620563703.py:3: calling dropout (from tensorflow.python.ops.nn_ops) with keep_prob is deprecated and will be removed in a future version.\n",
      "Instructions for updating:\n",
      "Please use `rate` instead of `keep_prob`. Rate should be set to `rate = 1 - keep_prob`.\n"
     ]
    }
   ],
   "source": [
    "# Create a dropout layer and Dropout a fraction of outputs randomly\n",
    "hold_prob=tf.placeholder(tf.float32)\n",
    "fc_dropout_outputs=tf.nn.dropout(fc_relu_layer_1_outputs,keep_prob=hold_prob)"
   ]
  },
  {
   "cell_type": "code",
   "execution_count": 15,
   "id": "d135faed",
   "metadata": {},
   "outputs": [],
   "source": [
    "# Create final FC layer \n",
    "y_pred=create_fully_connected_layer_and_compute_dotproduct_plus_bias(fc_dropout_outputs, output_size=10)"
   ]
  },
  {
   "cell_type": "code",
   "execution_count": 16,
   "id": "d739c7fa",
   "metadata": {},
   "outputs": [
    {
     "name": "stdout",
     "output_type": "stream",
     "text": [
      "WARNING:tensorflow:From /tmp/ipykernel_15653/3343738590.py:2: softmax_cross_entropy_with_logits (from tensorflow.python.ops.nn_ops) is deprecated and will be removed in a future version.\n",
      "Instructions for updating:\n",
      "\n",
      "Future major versions of TensorFlow will allow gradients to flow\n",
      "into the labels input on backprop by default.\n",
      "\n",
      "See `tf.nn.softmax_cross_entropy_with_logits_v2`.\n",
      "\n"
     ]
    }
   ],
   "source": [
    "# Create Loss Function and Calculate Softmax cross entropy Loss\n",
    "softmax_cross_entropy_loss=tf.nn.softmax_cross_entropy_with_logits(labels=y_true,logits=y_pred)\n",
    "\n",
    "# Compute the mean of losses\n",
    "cross_entropy_mean=tf.reduce_mean(softmax_cross_entropy_loss)"
   ]
  },
  {
   "cell_type": "code",
   "execution_count": 17,
   "id": "fd81e8c2",
   "metadata": {},
   "outputs": [
    {
     "name": "stdout",
     "output_type": "stream",
     "text": [
      "WARNING:tensorflow:From /tmp/ipykernel_15653/2823793934.py:2: The name tf.train.AdamOptimizer is deprecated. Please use tf.compat.v1.train.AdamOptimizer instead.\n",
      "\n"
     ]
    }
   ],
   "source": [
    "# Create an optimizer to Optimize CNN Model and Set Learning Rate\n",
    "optimizer=tf.train.AdamOptimizer(learning_rate=0.001)"
   ]
  },
  {
   "cell_type": "code",
   "execution_count": 18,
   "id": "bb3e634d",
   "metadata": {},
   "outputs": [],
   "source": [
    "# Create a trainer to trainig CNN Model\n",
    "cnn_trainer=optimizer.minimize(cross_entropy_mean)"
   ]
  },
  {
   "cell_type": "code",
   "execution_count": 19,
   "id": "309dbd63",
   "metadata": {},
   "outputs": [
    {
     "name": "stdout",
     "output_type": "stream",
     "text": [
      "WARNING:tensorflow:From /tmp/ipykernel_15653/3966272008.py:4: The name tf.global_variables_initializer is deprecated. Please use tf.compat.v1.global_variables_initializer instead.\n",
      "\n",
      "WARNING:tensorflow:From /tmp/ipykernel_15653/3966272008.py:10: The name tf.Session is deprecated. Please use tf.compat.v1.Session instead.\n",
      "\n"
     ]
    },
    {
     "name": "stderr",
     "output_type": "stream",
     "text": [
      "\n",
      "User settings:\n",
      "\n",
      "   KMP_AFFINITY=granularity=fine,verbose,compact,1,0\n",
      "   KMP_BLOCKTIME=0\n",
      "   KMP_DUPLICATE_LIB_OK=True\n",
      "   KMP_INIT_AT_FORK=FALSE\n",
      "   KMP_SETTINGS=1\n",
      "   OMP_NUM_THREADS=8\n",
      "\n",
      "Effective settings:\n",
      "\n",
      "   KMP_ABORT_DELAY=0\n",
      "   KMP_ADAPTIVE_LOCK_PROPS='1,1024'\n",
      "   KMP_ALIGN_ALLOC=64\n",
      "   KMP_ALL_THREADPRIVATE=128\n",
      "   KMP_ATOMIC_MODE=2\n",
      "   KMP_BLOCKTIME=0\n",
      "   KMP_CPUINFO_FILE: value is not defined\n",
      "   KMP_DETERMINISTIC_REDUCTION=false\n",
      "   KMP_DEVICE_THREAD_LIMIT=2147483647\n",
      "   KMP_DISP_HAND_THREAD=false\n",
      "   KMP_DISP_NUM_BUFFERS=7\n",
      "   KMP_DUPLICATE_LIB_OK=true\n",
      "   KMP_FORCE_REDUCTION: value is not defined\n",
      "   KMP_FOREIGN_THREADS_THREADPRIVATE=true\n",
      "   KMP_FORKJOIN_BARRIER='2,2'\n",
      "   KMP_FORKJOIN_BARRIER_PATTERN='hyper,hyper'\n",
      "   KMP_FORKJOIN_FRAMES=true\n",
      "   KMP_FORKJOIN_FRAMES_MODE=3\n",
      "   KMP_GTID_MODE=3\n",
      "   KMP_HANDLE_SIGNALS=false\n",
      "   KMP_HOT_TEAMS_MAX_LEVEL=1\n",
      "   KMP_HOT_TEAMS_MODE=0\n",
      "   KMP_INIT_AT_FORK=true\n",
      "   KMP_ITT_PREPARE_DELAY=0\n",
      "   KMP_LIBRARY=throughput\n",
      "   KMP_LOCK_KIND=queuing\n",
      "   KMP_MALLOC_POOL_INCR=1M\n",
      "   KMP_MWAIT_HINTS=0\n",
      "   KMP_NUM_LOCKS_IN_BLOCK=1\n",
      "   KMP_PLAIN_BARRIER='2,2'\n",
      "   KMP_PLAIN_BARRIER_PATTERN='hyper,hyper'\n",
      "   KMP_REDUCTION_BARRIER='1,1'\n",
      "   KMP_REDUCTION_BARRIER_PATTERN='hyper,hyper'\n",
      "   KMP_SCHEDULE='static,balanced;guided,iterative'\n",
      "   KMP_SETTINGS=true\n",
      "   KMP_SPIN_BACKOFF_PARAMS='4096,100'\n",
      "   KMP_STACKOFFSET=64\n",
      "   KMP_STACKPAD=0\n",
      "   KMP_STACKSIZE=8M\n",
      "   KMP_STORAGE_MAP=false\n",
      "   KMP_TASKING=2\n",
      "   KMP_TASKLOOP_MIN_TASKS=0\n",
      "   KMP_TASK_STEALING_CONSTRAINT=1\n",
      "   KMP_TEAMS_THREAD_LIMIT=8\n",
      "   KMP_TOPOLOGY_METHOD=all\n",
      "   KMP_USER_LEVEL_MWAIT=false\n",
      "   KMP_USE_YIELD=1\n",
      "   KMP_VERSION=false\n",
      "   KMP_WARNINGS=true\n",
      "   OMP_AFFINITY_FORMAT='OMP: pid %P tid %i thread %n bound to OS proc set {%A}'\n",
      "   OMP_ALLOCATOR=omp_default_mem_alloc\n",
      "   OMP_CANCELLATION=false\n",
      "   OMP_DEBUG=disabled\n",
      "   OMP_DEFAULT_DEVICE=0\n",
      "   OMP_DISPLAY_AFFINITY=false\n",
      "   OMP_DISPLAY_ENV=false\n",
      "   OMP_DYNAMIC=false\n",
      "   OMP_MAX_ACTIVE_LEVELS=2147483647\n",
      "   OMP_MAX_TASK_PRIORITY=0\n",
      "   OMP_NESTED=false\n",
      "   OMP_NUM_THREADS='8'\n",
      "   OMP_PLACES: value is not defined\n",
      "   OMP_PROC_BIND='intel'\n",
      "   OMP_SCHEDULE='static'\n",
      "   OMP_STACKSIZE=8M\n",
      "   OMP_TARGET_OFFLOAD=DEFAULT\n",
      "   OMP_THREAD_LIMIT=2147483647\n",
      "   OMP_TOOL=enabled\n",
      "   OMP_TOOL_LIBRARIES: value is not defined\n",
      "   OMP_WAIT_POLICY=PASSIVE\n",
      "   KMP_AFFINITY='verbose,warnings,respect,granularity=fine,compact,1,0'\n",
      "\n",
      "2024-07-11 04:34:05.564329: I tensorflow/core/platform/profile_utils/cpu_utils.cc:94] CPU Frequency: 2200160000 Hz\n",
      "2024-07-11 04:34:05.564945: I tensorflow/compiler/xla/service/service.cc:168] XLA service 0x564e38d43f80 initialized for platform Host (this does not guarantee that XLA will be used). Devices:\n",
      "2024-07-11 04:34:05.564983: I tensorflow/compiler/xla/service/service.cc:176]   StreamExecutor device (0): Host, Default Version\n",
      "2024-07-11 04:34:05.565128: I tensorflow/core/common_runtime/process_util.cc:136] Creating new thread pool with default inter op setting: 2. Tune using inter_op_parallelism_threads for best performance.\n",
      "OMP: Info #212: KMP_AFFINITY: decoding x2APIC ids.\n",
      "OMP: Info #210: KMP_AFFINITY: Affinity capable, using global cpuid leaf 11 info\n",
      "OMP: Info #154: KMP_AFFINITY: Initial OS proc set respected: 0-7\n",
      "OMP: Info #156: KMP_AFFINITY: 8 available OS procs\n",
      "OMP: Info #157: KMP_AFFINITY: Uniform topology\n",
      "OMP: Info #179: KMP_AFFINITY: 1 packages x 4 cores/pkg x 2 threads/core (4 total cores)\n",
      "OMP: Info #214: KMP_AFFINITY: OS proc to physical thread map:\n",
      "OMP: Info #171: KMP_AFFINITY: OS proc 0 maps to package 0 core 0 thread 0 \n",
      "OMP: Info #171: KMP_AFFINITY: OS proc 4 maps to package 0 core 0 thread 1 \n",
      "OMP: Info #171: KMP_AFFINITY: OS proc 1 maps to package 0 core 1 thread 0 \n",
      "OMP: Info #171: KMP_AFFINITY: OS proc 5 maps to package 0 core 1 thread 1 \n",
      "OMP: Info #171: KMP_AFFINITY: OS proc 2 maps to package 0 core 2 thread 0 \n",
      "OMP: Info #171: KMP_AFFINITY: OS proc 6 maps to package 0 core 2 thread 1 \n",
      "OMP: Info #171: KMP_AFFINITY: OS proc 3 maps to package 0 core 3 thread 0 \n",
      "OMP: Info #171: KMP_AFFINITY: OS proc 7 maps to package 0 core 3 thread 1 \n",
      "OMP: Info #250: KMP_AFFINITY: pid 15653 tid 17718 thread 0 bound to OS proc set 0\n",
      "OMP: Info #250: KMP_AFFINITY: pid 15653 tid 17718 thread 1 bound to OS proc set 1\n",
      "OMP: Info #250: KMP_AFFINITY: pid 15653 tid 17720 thread 2 bound to OS proc set 2\n",
      "OMP: Info #250: KMP_AFFINITY: pid 15653 tid 17722 thread 4 bound to OS proc set 4\n",
      "OMP: Info #250: KMP_AFFINITY: pid 15653 tid 17721 thread 3 bound to OS proc set 3\n",
      "OMP: Info #250: KMP_AFFINITY: pid 15653 tid 17723 thread 5 bound to OS proc set 5\n",
      "OMP: Info #250: KMP_AFFINITY: pid 15653 tid 17724 thread 6 bound to OS proc set 6\n",
      "OMP: Info #250: KMP_AFFINITY: pid 15653 tid 17725 thread 7 bound to OS proc set 7\n",
      "OMP: Info #250: KMP_AFFINITY: pid 15653 tid 17726 thread 8 bound to OS proc set 0\n",
      "OMP: Info #250: KMP_AFFINITY: pid 15653 tid 17717 thread 9 bound to OS proc set 1\n",
      "OMP: Info #250: KMP_AFFINITY: pid 15653 tid 17728 thread 11 bound to OS proc set 3\n",
      "OMP: Info #250: KMP_AFFINITY: pid 15653 tid 17730 thread 13 bound to OS proc set 5\n",
      "OMP: Info #250: KMP_AFFINITY: pid 15653 tid 17729 thread 12 bound to OS proc set 4\n",
      "OMP: Info #250: KMP_AFFINITY: pid 15653 tid 17731 thread 14 bound to OS proc set 6\n",
      "OMP: Info #250: KMP_AFFINITY: pid 15653 tid 17732 thread 15 bound to OS proc set 7\n",
      "OMP: Info #250: KMP_AFFINITY: pid 15653 tid 17733 thread 16 bound to OS proc set 0\n",
      "OMP: Info #250: KMP_AFFINITY: pid 15653 tid 17727 thread 10 bound to OS proc set 2\n"
     ]
    },
    {
     "name": "stdout",
     "output_type": "stream",
     "text": [
      "ON STEP: 0\n",
      "ACCURACY: \n",
      "0.1963\n",
      "\n",
      "\n",
      "ON STEP: 100\n",
      "ACCURACY: \n",
      "0.9124\n",
      "\n",
      "\n",
      "ON STEP: 200\n",
      "ACCURACY: \n",
      "0.9251\n",
      "\n",
      "\n",
      "ON STEP: 300\n",
      "ACCURACY: \n",
      "0.9282\n",
      "\n",
      "\n",
      "ON STEP: 400\n",
      "ACCURACY: \n",
      "0.94\n",
      "\n",
      "\n",
      "ON STEP: 500\n",
      "ACCURACY: \n",
      "0.9487\n",
      "\n",
      "\n",
      "ON STEP: 600\n",
      "ACCURACY: \n",
      "0.9428\n",
      "\n",
      "\n",
      "ON STEP: 700\n",
      "ACCURACY: \n",
      "0.9481\n",
      "\n",
      "\n",
      "ON STEP: 800\n",
      "ACCURACY: \n",
      "0.9483\n",
      "\n",
      "\n",
      "ON STEP: 900\n",
      "ACCURACY: \n",
      "0.9576\n",
      "\n",
      "\n",
      "ON STEP: 1000\n",
      "ACCURACY: \n",
      "0.9537\n",
      "\n",
      "\n",
      "ON STEP: 1100\n",
      "ACCURACY: \n",
      "0.9586\n",
      "\n",
      "\n",
      "ON STEP: 1200\n",
      "ACCURACY: \n",
      "0.9635\n",
      "\n",
      "\n",
      "ON STEP: 1300\n",
      "ACCURACY: \n",
      "0.9619\n",
      "\n",
      "\n",
      "ON STEP: 1400\n",
      "ACCURACY: \n",
      "0.9606\n",
      "\n",
      "\n",
      "ON STEP: 1500\n",
      "ACCURACY: \n",
      "0.9637\n",
      "\n",
      "\n",
      "ON STEP: 1600\n",
      "ACCURACY: \n",
      "0.9605\n",
      "\n",
      "\n",
      "ON STEP: 1700\n",
      "ACCURACY: \n",
      "0.961\n",
      "\n",
      "\n",
      "ON STEP: 1800\n",
      "ACCURACY: \n",
      "0.9605\n",
      "\n",
      "\n",
      "ON STEP: 1900\n",
      "ACCURACY: \n",
      "0.9633\n",
      "\n",
      "\n",
      "ON STEP: 2000\n",
      "ACCURACY: \n",
      "0.9627\n",
      "\n",
      "\n",
      "ON STEP: 2100\n",
      "ACCURACY: \n",
      "0.9665\n",
      "\n",
      "\n",
      "ON STEP: 2200\n",
      "ACCURACY: \n",
      "0.969\n",
      "\n",
      "\n",
      "ON STEP: 2300\n",
      "ACCURACY: \n",
      "0.9714\n",
      "\n",
      "\n",
      "ON STEP: 2400\n",
      "ACCURACY: \n",
      "0.9697\n",
      "\n",
      "\n",
      "ON STEP: 2500\n",
      "ACCURACY: \n",
      "0.9739\n",
      "\n",
      "\n",
      "ON STEP: 2600\n",
      "ACCURACY: \n",
      "0.9732\n",
      "\n",
      "\n",
      "ON STEP: 2700\n",
      "ACCURACY: \n",
      "0.9698\n",
      "\n",
      "\n",
      "ON STEP: 2800\n",
      "ACCURACY: \n",
      "0.9725\n",
      "\n",
      "\n",
      "ON STEP: 2900\n",
      "ACCURACY: \n",
      "0.9721\n",
      "\n",
      "\n"
     ]
    }
   ],
   "source": [
    "# Train and test CNN deep learning Model on MNIST dataset\n",
    "\n",
    "# Create a varaible to initializer to initialize all variables\n",
    "vars_initializer=tf.global_variables_initializer()\n",
    "\n",
    "#Set the steps\n",
    "steps=3000\n",
    "\n",
    "# Run tf.session() to train and test deep learning CNN model\n",
    "with tf.Session() as sess:\n",
    "    sess.run(vars_initializer)\n",
    "    for i in range(steps):\n",
    "        batch_x, batch_y = mnist.train.next_batch(50)\n",
    "\n",
    "        # Train the model\n",
    "        sess.run(cnn_trainer, feed_dict={x: batch_x, y_true: batch_y, hold_prob: 0.5})\n",
    "\n",
    "        # Test the model at each 100 step\n",
    "        if i % 100 == 0:\n",
    "          print('ON STEP: {}'.format(i))\n",
    "          print('ACCURACY: ')\n",
    "\n",
    "          # Compare to find the matches of y_pred and y_true\n",
    "          matches=tf.equal(tf.argmax(y_pred,1),tf.argmax(y_true,1))\n",
    "\n",
    "          # Calculate the accuracy\n",
    "          acc=tf.reduce_mean(tf.cast(matches,tf.float32))\n",
    "\n",
    "          # Test the model at each 100th step\n",
    "          # Using the test data\n",
    "          # Dropout: NONE because of test, not training\n",
    "          test_accuracy=sess.run(acc, feed_dict={x: mnist.test.images, y_true: mnist.test.labels, hold_prob: 1.0})\n",
    "\n",
    "          print(test_accuracy)\n",
    "          print('\\n')\n"
   ]
  },
  {
   "cell_type": "code",
   "execution_count": null,
   "id": "84031cc7",
   "metadata": {},
   "outputs": [],
   "source": []
  }
 ],
 "metadata": {
  "kernelspec": {
   "display_name": "Python 3",
   "language": "python",
   "name": "python3"
  },
  "language_info": {
   "codemirror_mode": {
    "name": "ipython",
    "version": 3
   },
   "file_extension": ".py",
   "mimetype": "text/x-python",
   "name": "python",
   "nbconvert_exporter": "python",
   "pygments_lexer": "ipython3",
   "version": "3.7.12"
  }
 },
 "nbformat": 4,
 "nbformat_minor": 5
}
